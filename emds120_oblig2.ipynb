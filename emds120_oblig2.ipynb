{
  "nbformat": 4,
  "nbformat_minor": 0,
  "metadata": {
    "colab": {
      "provenance": [],
      "machine_shape": "hm"
    },
    "kernelspec": {
      "name": "python3",
      "display_name": "Python 3"
    },
    "language_info": {
      "name": "python"
    },
    "gpuClass": "standard"
  },
  "cells": [
    {
      "cell_type": "markdown",
      "source": [
        "# __Assignment 2__\n",
        "\n",
        "## __Short Report__\n",
        "\n",
        "### __Data__\n",
        "The first thing I do is to read the data from the given URL and prepare it for the model. \n",
        "\n",
        "I start with feature engineering where I convert the Month column into an integer column from 1 to 12. Where 1 represents January and so on. Then I prepare the target variable by shifting the Passenger column by -1. This means that the target value for each row will be the next rows passenger count.\n",
        "\n",
        "The next step is splitting the data into training and test data. The first 70 % of the rows are set to training, while the remaining rows are used for the test set. \n",
        "\n",
        "After the datasplit I scale the data into the range (0, 1). The scaler is fitted on the training data. This is done to not get any data leakage into to the test set and make sure that the scaled values in train and test are equivalent. \n",
        "\n",
        "The final data step is to convert the numpy arrays into pytorch tensors and cunstruct the datasets and dataloaders for training and test. \n",
        "\n",
        "### __The model__\n",
        "The model consits of a one layered LSTM and a linear layer. The LSTM handles the time steps. The last linear layer takes the flattened final hidden state from the LSTM and maps it to it's final prediction. We calculate the mean squared error between the actual target value and this prediciton as the loss. \n",
        "\n",
        "The model is initiated with two features and 100 units in the hidden dimension. The learning rate is set to 1e-3 and the optimizer ADAM. Finally the model is trained for 150 epochs with shuffled batches of size 3. \n",
        "\n",
        "### __The results__\n",
        "The model makes fairly decent predictions and achieves a MSE of 0.022. \n",
        "\n"
      ],
      "metadata": {
        "id": "gNFQnuB7Uqgh"
      }
    },
    {
      "cell_type": "code",
      "source": [
        "from sklearn.preprocessing import MinMaxScaler\n",
        "from sklearn.metrics import mean_squared_error\n",
        "import pandas as pd\n",
        "import numpy as np\n",
        "import matplotlib.pyplot as plt\n",
        "import torch\n",
        "from torch.utils.data import Dataset, DataLoader\n",
        "from torch import nn"
      ],
      "metadata": {
        "id": "8qgVnF3OPULq"
      },
      "execution_count": null,
      "outputs": []
    },
    {
      "cell_type": "code",
      "source": [
        "csv_path = \"https://raw.githubusercontent.com/blue-yonder/pydse/master/pydse/data/international-airline-passengers.csv\"\n",
        "df = pd.read_csv(csv_path, delimiter=\";\")\n",
        "\n",
        "# I decided to the this assignment in a slightly different way than you suggested.\n",
        "# I also include a feature for the month, this is to capture seasonal effects \n",
        "# which might be represented in the month. \n",
        "df = df.assign(month=lambda x: x.Month.str.slice(start=5))\n",
        "df_2feats = df[[\"Passengers\", \"month\"]]"
      ],
      "metadata": {
        "id": "xfqrt7yEMBSb"
      },
      "execution_count": null,
      "outputs": []
    },
    {
      "cell_type": "code",
      "source": [
        "df.Passengers.plot(title=\"Passengers over time\")\n",
        "plt.plot()"
      ],
      "metadata": {
        "colab": {
          "base_uri": "https://localhost:8080/",
          "height": 299
        },
        "id": "BVAsAYxyfmQo",
        "outputId": "d6decda0-a681-47d7-ee37-09d2f2837cdc"
      },
      "execution_count": null,
      "outputs": [
        {
          "output_type": "execute_result",
          "data": {
            "text/plain": [
              "[]"
            ]
          },
          "metadata": {},
          "execution_count": 3
        },
        {
          "output_type": "display_data",
          "data": {
            "text/plain": [
              "<Figure size 432x288 with 1 Axes>"
            ],
            "image/png": "[encoded data removed]"
          },
          "metadata": {
            "needs_background": "light"
          }
        }
      ]
    },
    {
      "cell_type": "code",
      "source": [
        "# I make the target variable y. This causes us to lose 1 \n",
        "# degree of freedom, so I drop the last row with missing\n",
        "# target value \n",
        "df_2feats[\"y\"] = df_2feats.Passengers.shift(-1)\n",
        "df_2feats = df_2feats.dropna()"
      ],
      "metadata": {
        "id": "LIOOuDKGP_5R"
      },
      "execution_count": null,
      "outputs": []
    },
    {
      "cell_type": "code",
      "source": [
        "# Split the data into train and test\n",
        "prc_70 = int(len(df_2feats) * 0.7)\n",
        "train = df_2feats[:prc_70]\n",
        "test = df_2feats[prc_70:]"
      ],
      "metadata": {
        "id": "kpoGPm-HMhQg"
      },
      "execution_count": null,
      "outputs": []
    },
    {
      "cell_type": "code",
      "source": [
        "# scale data into the range (0, 1)\n",
        "scaler = MinMaxScaler(feature_range=(0,1))\n",
        "train_scaled = scaler.fit_transform(train)\n",
        "test_scaled = scaler.transform(test)"
      ],
      "metadata": {
        "id": "8prnH1IEM138"
      },
      "execution_count": null,
      "outputs": []
    },
    {
      "cell_type": "code",
      "source": [
        "# turn the data into X and y tensors\n",
        "X_train = torch.from_numpy(train_scaled[:, [0,1]])\n",
        "y_train = torch.from_numpy(train_scaled[:, 2])\n",
        "\n",
        "X_test = torch.from_numpy(test_scaled[:,[0,1]])\n",
        "y_test = torch.from_numpy(test_scaled[:,2])"
      ],
      "metadata": {
        "id": "1Zadk4IVQuUK"
      },
      "execution_count": null,
      "outputs": []
    },
    {
      "cell_type": "code",
      "source": [
        "class PassengerData(Dataset):\n",
        "    def __init__(self, X, y, seq_len=1):\n",
        "        self.seq_len = seq_len\n",
        "        # cast y and X values as floats \n",
        "        self.y = y.float()\n",
        "        self.X = X.float()\n",
        "\n",
        "    def __len__(self):\n",
        "        return self.X.shape[0]\n",
        "\n",
        "    def __getitem__(self, i):\n",
        "        return self.X[i:i+1, :], self.y[i]"
      ],
      "metadata": {
        "id": "H8skBTZbMBHf"
      },
      "execution_count": null,
      "outputs": []
    },
    {
      "cell_type": "code",
      "source": [
        "# make datasets and dataloaders for simplicity \n",
        "torch.manual_seed(420)\n",
        "\n",
        "train_dataset = PassengerData(X_train, y_train)\n",
        "train_loader = DataLoader(train_dataset, batch_size=3, shuffle=True)\n",
        "\n",
        "test_dataset = PassengerData(X_test, y_test)\n",
        "test_loader = DataLoader(test_dataset, batch_size=1, shuffle=False)"
      ],
      "metadata": {
        "id": "LnTA7WwEMc_a"
      },
      "execution_count": null,
      "outputs": []
    },
    {
      "cell_type": "code",
      "source": [
        "class PassengerLSTM(nn.Module):\n",
        "    def __init__(self, num_features, hiddin_dim, n_layers = 1):\n",
        "        super().__init__()\n",
        "        self.num_features = num_features\n",
        "        # the size of the hidden dimension in the lstm\n",
        "        # this will decide the dimension of the output from the lstm\n",
        "        self.hiddin_dim = hiddin_dim \n",
        "        # the number of recurrent layers\n",
        "        self.n_layers = n_layers\n",
        "\n",
        "        self.lstm = nn.LSTM(\n",
        "            input_size=num_features,\n",
        "            hidden_size=hiddin_dim,\n",
        "            batch_first=True,\n",
        "            num_layers=self.n_layers\n",
        "        )\n",
        "        # out_features = 1 since this is regression \n",
        "        self.linear = nn.Linear(in_features=self.hiddin_dim, out_features=1)\n",
        "\n",
        "    def forward(self, x):\n",
        "        batch_size = x.shape[0]\n",
        "        # init hidden state (h0) and cell state (c0) as zero\n",
        "        h0 = torch.zeros(\n",
        "            self.n_layers, batch_size, self.hiddin_dim).requires_grad_()\n",
        "        c0 = torch.zeros(\n",
        "            self.n_layers, batch_size, self.hiddin_dim).requires_grad_()\n",
        "        # lstm outputs 3 items\n",
        "        # first: tensor with the output features (hidden state) from the last \n",
        "        # layer of the lstm for each time step. \n",
        "        # second: a tensor containing the final hidden state for each element \n",
        "        # in the sequence.This is the tensor we flatten and feed to the linear\n",
        "        # layer. \n",
        "        # third: tensor containing the final cell state for each element in the\n",
        "        # seq\n",
        "        _, (hn, _) = self.lstm(x, (h0, c0))\n",
        "        out = self.linear(hn[0]).flatten()\n",
        "\n",
        "        return out"
      ],
      "metadata": {
        "id": "nmiALOpfRnDE"
      },
      "execution_count": null,
      "outputs": []
    },
    {
      "cell_type": "code",
      "source": [
        "learning_rate = 1e-3\n",
        "\n",
        "model = PassengerLSTM(num_features=2, hiddin_dim=100)\n",
        "loss_function = nn.MSELoss()\n",
        "optimizer = torch.optim.Adam(model.parameters(), lr=learning_rate)"
      ],
      "metadata": {
        "id": "fU-7X1R8RpDD"
      },
      "execution_count": null,
      "outputs": []
    },
    {
      "cell_type": "code",
      "source": [
        "# define some variables and the training loop \n",
        "num_batches = len(train_loader)\n",
        "avg_loss_per_epoch = []\n",
        "epochs = 150\n",
        "\n",
        "model.train()\n",
        "for e in range(epochs):\n",
        "  loss_epoch = 0\n",
        "  \n",
        "  for X, y in train_loader:\n",
        "      output = model(X)\n",
        "      loss = loss_function(output, y)\n",
        "\n",
        "      optimizer.zero_grad()\n",
        "      loss.backward()\n",
        "      optimizer.step()\n",
        "\n",
        "      loss_epoch += loss.item()\n",
        "\n",
        "  avg_loss = loss_epoch / num_batches\n",
        "  avg_loss_per_epoch.append(avg_loss)\n",
        "\n",
        "  if e % 10 == 0:\n",
        "    print(f\"Epoch : {e} | Train loss: {avg_loss}\")"
      ],
      "metadata": {
        "colab": {
          "base_uri": "https://localhost:8080/"
        },
        "id": "uuHonLIXSg0U",
        "outputId": "d07e260c-2d94-4c51-bbd4-4dd68d4465a9"
      },
      "execution_count": null,
      "outputs": [
        {
          "output_type": "stream",
          "name": "stdout",
          "text": [
            "Epoch : 0 | Train loss: 0.17908867056865027\n",
            "Epoch : 10 | Train loss: 0.008788059910704546\n",
            "Epoch : 20 | Train loss: 0.006126775583491989\n",
            "Epoch : 30 | Train loss: 0.006073176080141874\n",
            "Epoch : 40 | Train loss: 0.0063744298026636795\n",
            "Epoch : 50 | Train loss: 0.005767049543946461\n",
            "Epoch : 60 | Train loss: 0.00549613988807644\n",
            "Epoch : 70 | Train loss: 0.005572558587814188\n",
            "Epoch : 80 | Train loss: 0.005576665325754541\n",
            "Epoch : 90 | Train loss: 0.005869702175807427\n",
            "Epoch : 100 | Train loss: 0.006374338777009945\n",
            "Epoch : 110 | Train loss: 0.0054306079113944986\n",
            "Epoch : 120 | Train loss: 0.00526831675276352\n",
            "Epoch : 130 | Train loss: 0.005206963943611995\n",
            "Epoch : 140 | Train loss: 0.005571298150564818\n"
          ]
        }
      ]
    },
    {
      "cell_type": "code",
      "source": [
        "# for each feature vector in the test set make prediction \n",
        "preds = torch.tensor([], requires_grad=False)\n",
        "\n",
        "model.eval()\n",
        "with torch.no_grad():\n",
        "    for X, _ in test_loader:\n",
        "        y_pred = model(X)\n",
        "        preds = torch.cat((preds, y_pred), 0)"
      ],
      "metadata": {
        "id": "PNgqAvaFSsZ6"
      },
      "execution_count": null,
      "outputs": []
    },
    {
      "cell_type": "code",
      "source": [
        "# plot of y_true in blue and preds in red \n",
        "plt.plot(test_scaled[:,2], c=\"b\")\n",
        "plt.plot(preds, c=\"r\")\n",
        "plt.title(\"Y_true and Y_pred\")\n",
        "plt.plot()"
      ],
      "metadata": {
        "colab": {
          "base_uri": "https://localhost:8080/",
          "height": 299
        },
        "id": "df2T5qINUS4T",
        "outputId": "d15391a9-b488-43d2-9161-7b33ad48bf89"
      },
      "execution_count": null,
      "outputs": [
        {
          "output_type": "execute_result",
          "data": {
            "text/plain": [
              "[]"
            ]
          },
          "metadata": {},
          "execution_count": 14
        },
        {
          "output_type": "display_data",
          "data": {
            "text/plain": [
              "<Figure size 432x288 with 1 Axes>"
            ],
            "image/png": "[encoded data removed]"
          },
          "metadata": {
            "needs_background": "light"
          }
        }
      ]
    },
    {
      "cell_type": "code",
      "source": [
        "# this is a plot of the average loss for each epoch  \n",
        "plt.plot(avg_loss_per_epoch)\n",
        "plt.title(\"Average loss for each epoch.\")\n",
        "plt.show()"
      ],
      "metadata": {
        "colab": {
          "base_uri": "https://localhost:8080/",
          "height": 281
        },
        "id": "6M_z2xAqXj1T",
        "outputId": "1f0dbb7d-0cd4-4ce3-d8ed-9ab20de7ff86"
      },
      "execution_count": null,
      "outputs": [
        {
          "output_type": "display_data",
          "data": {
            "text/plain": [
              "<Figure size 432x288 with 1 Axes>"
            ],
            "image/png": "[encoded data removed]"
          },
          "metadata": {
            "needs_background": "light"
          }
        }
      ]
    },
    {
      "cell_type": "code",
      "source": [
        "mse = mean_squared_error(test_scaled[:,2], preds)\n",
        "print(f\"MSE: {mse:.3f}\")"
      ],
      "metadata": {
        "colab": {
          "base_uri": "https://localhost:8080/"
        },
        "id": "623afVWrXkoG",
        "outputId": "f503db1a-737e-4f0d-c325-44afd2cf8364"
      },
      "execution_count": null,
      "outputs": [
        {
          "output_type": "stream",
          "name": "stdout",
          "text": [
            "MSE: 0.022\n"
          ]
        }
      ]
    },
    {
      "cell_type": "markdown",
      "source": [
        "### __Resources:__\n",
        "https://stackabuse.com/time-series-prediction-using-lstm-with-pytorch-in-python/ <br>\n",
        "https://pytorch.org/docs/stable/generated/torch.nn.LSTM.html<br>\n",
        "https://www.kaggle.com/code/taronzakaryan/predicting-stock-price-using-lstm-model-pytorch <br>\n",
        "https://discuss.pytorch.org/t/rnn-with-different-sequence-lengths/84922/6 <br>\n",
        "https://discuss.pytorch.org/t/variable-input-size-to-lstm/61379/2 <br>\n",
        "https://www.crosstab.io/articles/time-series-pytorch-lstm/ <br>"
      ],
      "metadata": {
        "id": "XpnIxfiMgCqb"
      }
    }
  ]
}